{
 "cells": [
  {
   "cell_type": "markdown",
   "id": "c1f0dec6",
   "metadata": {},
   "source": [
    "# 图像的读取"
   ]
  },
  {
   "cell_type": "code",
   "execution_count": 2,
   "id": "747fa269-a2e3-4b50-8da6-4eff8b8e1894",
   "metadata": {},
   "outputs": [],
   "source": [
    "import cv2 #opencv读取的是BGR的格式\n",
    "import matplotlib.pyplot as plt #matplotlib是RGB格式\n",
    "import numpy as np\n",
    "%matplotlib inline\n",
    "\n",
    "img = cv2.imread(\"WechatIMG7.jpg\")"
   ]
  },
  {
   "cell_type": "code",
   "execution_count": 5,
   "id": "4fd2a533",
   "metadata": {},
   "outputs": [
    {
     "data": {
      "text/plain": [
       "array([[[ 4, 29, 33],\n",
       "        [ 4, 29, 33],\n",
       "        [ 4, 29, 33],\n",
       "        ...,\n",
       "        [ 6, 27, 29],\n",
       "        [ 6, 27, 29],\n",
       "        [ 6, 27, 29]],\n",
       "\n",
       "       [[ 4, 29, 33],\n",
       "        [ 4, 29, 33],\n",
       "        [ 4, 29, 33],\n",
       "        ...,\n",
       "        [ 6, 27, 29],\n",
       "        [ 6, 27, 29],\n",
       "        [ 6, 27, 29]],\n",
       "\n",
       "       [[ 4, 29, 33],\n",
       "        [ 4, 29, 33],\n",
       "        [ 4, 29, 33],\n",
       "        ...,\n",
       "        [ 6, 27, 29],\n",
       "        [ 6, 27, 29],\n",
       "        [ 6, 27, 29]],\n",
       "\n",
       "       ...,\n",
       "\n",
       "       [[ 3, 36, 32],\n",
       "        [ 3, 36, 32],\n",
       "        [ 3, 36, 32],\n",
       "        ...,\n",
       "        [ 7, 36, 33],\n",
       "        [ 7, 36, 33],\n",
       "        [ 7, 36, 33]],\n",
       "\n",
       "       [[ 3, 36, 32],\n",
       "        [ 3, 36, 32],\n",
       "        [ 3, 36, 32],\n",
       "        ...,\n",
       "        [ 7, 36, 33],\n",
       "        [ 7, 36, 33],\n",
       "        [ 7, 36, 33]],\n",
       "\n",
       "       [[ 3, 36, 32],\n",
       "        [ 3, 36, 32],\n",
       "        [ 3, 36, 32],\n",
       "        ...,\n",
       "        [ 7, 36, 33],\n",
       "        [ 7, 36, 33],\n",
       "        [ 7, 36, 33]]], dtype=uint8)"
      ]
     },
     "execution_count": 5,
     "metadata": {},
     "output_type": "execute_result"
    }
   ],
   "source": [
    "img"
   ]
  },
  {
   "cell_type": "code",
   "execution_count": 3,
   "id": "f768f1fd",
   "metadata": {},
   "outputs": [],
   "source": [
    "cv2.imshow(\"image\",img) #图像的显示，创建一个窗口用来显示上述的图像\n",
    "cv2.waitKey(0) #等待时间，0表示一直显示，毫秒级\n",
    "cv2.destroyAllWindows()"
   ]
  },
  {
   "cell_type": "code",
   "execution_count": 2,
   "id": "7d17bb75",
   "metadata": {},
   "outputs": [],
   "source": [
    "def cv_show(name,img):\n",
    "    cv2.imshow(name,img)\n",
    "    cv2.waitKey(10)\n",
    "    cv2.destroyALLWindows()"
   ]
  },
  {
   "cell_type": "code",
   "execution_count": 6,
   "id": "ae6f5d9f",
   "metadata": {},
   "outputs": [
    {
     "data": {
      "text/plain": [
       "(956, 954, 3)"
      ]
     },
     "execution_count": 6,
     "metadata": {},
     "output_type": "execute_result"
    }
   ],
   "source": [
    "img.shape #(hwc) h代表图片的高，w代表图片的宽，c代表图像的通道数，c=3说明图像是RGB三色的，但是在opencv中使用BGR格式的"
   ]
  },
  {
   "cell_type": "code",
   "execution_count": 2,
   "id": "20ec5709",
   "metadata": {},
   "outputs": [
    {
     "data": {
      "text/plain": [
       "array([[54, 54, 54, ...,  1,  1,  1],\n",
       "       [53, 53, 54, ...,  1,  1,  1],\n",
       "       [53, 53, 54, ...,  1,  1,  1],\n",
       "       ...,\n",
       "       [35, 34, 34, ..., 67, 67, 67],\n",
       "       [31, 30, 30, ..., 68, 68, 68],\n",
       "       [40, 40, 40, ..., 68, 67, 67]], dtype=uint8)"
      ]
     },
     "execution_count": 2,
     "metadata": {},
     "output_type": "execute_result"
    }
   ],
   "source": [
    "img = cv2.imread('WechatIMG8.jpg',cv2.IMREAD_GRAYSCALE)\n",
    "#cv2.IMREAD_COLOR代表的是读进彩色图像，\n",
    "#cv2.IMREAD_GRAYSCALE代表读进灰度图像\n",
    "img"
   ]
  },
  {
   "cell_type": "code",
   "execution_count": 3,
   "id": "b9323214",
   "metadata": {},
   "outputs": [
    {
     "data": {
      "text/plain": [
       "(605, 591)"
      ]
     },
     "execution_count": 3,
     "metadata": {},
     "output_type": "execute_result"
    }
   ],
   "source": [
    "img.shape"
   ]
  },
  {
   "cell_type": "code",
   "execution_count": 4,
   "id": "52cd2f0c",
   "metadata": {},
   "outputs": [],
   "source": [
    "cv2.imshow('image',img)\n",
    "cv2.waitKey(0)\n",
    "cv2.destroyAllWindows()"
   ]
  },
  {
   "cell_type": "code",
   "execution_count": 3,
   "id": "6748bba3",
   "metadata": {},
   "outputs": [
    {
     "data": {
      "text/plain": [
       "True"
      ]
     },
     "execution_count": 3,
     "metadata": {},
     "output_type": "execute_result"
    }
   ],
   "source": [
    "#保存\n",
    "cv2.imwrite('mycat.png',img)"
   ]
  },
  {
   "cell_type": "code",
   "execution_count": 4,
   "id": "9023b47c",
   "metadata": {},
   "outputs": [
    {
     "data": {
      "text/plain": [
       "numpy.ndarray"
      ]
     },
     "execution_count": 4,
     "metadata": {},
     "output_type": "execute_result"
    }
   ],
   "source": [
    "type(img)"
   ]
  },
  {
   "cell_type": "code",
   "execution_count": 5,
   "id": "aa9124b7",
   "metadata": {},
   "outputs": [
    {
     "data": {
      "text/plain": [
       "357555"
      ]
     },
     "execution_count": 5,
     "metadata": {},
     "output_type": "execute_result"
    }
   ],
   "source": [
    "img.size"
   ]
  },
  {
   "cell_type": "code",
   "execution_count": 6,
   "id": "e9ea37a3",
   "metadata": {},
   "outputs": [
    {
     "data": {
      "text/plain": [
       "dtype('uint8')"
      ]
     },
     "execution_count": 6,
     "metadata": {},
     "output_type": "execute_result"
    }
   ],
   "source": [
    "img.dtype"
   ]
  },
  {
   "cell_type": "markdown",
   "id": "a20c9e0c",
   "metadata": {},
   "source": [
    "# 视频的读取\n",
    "cv2.VideoCapture用来捕获摄像头的画面，用数字来控制不同的设备，例如1，0\n",
    "如果是视频的话，直接指定好路径就行"
   ]
  },
  {
   "cell_type": "code",
   "execution_count": null,
   "id": "cc2798f5",
   "metadata": {},
   "outputs": [],
   "source": [
    "import cv2                    #opencv读取的是BGR的格式\n",
    "\n",
    "vc = cv2.VideoCapture('caochang.mp4')"
   ]
  },
  {
   "cell_type": "code",
   "execution_count": null,
   "id": "257f2323",
   "metadata": {},
   "outputs": [],
   "source": [
    "if vc.isOpened():\n",
    "    open ，frame = vc.read()           #vc.read返回两个变量，open是个标志说明能被打开，frame接受vc变量中的一帧视频图像\n",
    "else:\n",
    "    open = False"
   ]
  },
  {
   "cell_type": "code",
   "execution_count": null,
   "id": "9ba334d7",
   "metadata": {
    "scrolled": true
   },
   "outputs": [],
   "source": [
    "while open:\n",
    "    ret，frame = vc.read()        # frame接受vc变量中的一帧视频图像\n",
    "    if frame is None:        #当循环到视频的末尾没有新的帧就自动退出\n",
    "        break\n",
    "    if ret == True:\n",
    "        gray = cv2.cvtColor(frame, cv2.COLOR_BGR2GRAY)  #cv2.COLOR_BGR2GRAY用来将三色视频图像转换成灰度图像\n",
    "        cv2.imshow('result',gray)\n",
    "        if cv2.waitKey(100) & 0xFF ==27: #27代表的是退出健，没有什么特殊意义\n",
    "            break\n",
    "vc.release()\n",
    "cv2.destroyALLWindows()\n",
    "        "
   ]
  },
  {
   "cell_type": "markdown",
   "id": "b49f1dfc",
   "metadata": {},
   "source": [
    "# 截取部分图像数据"
   ]
  },
  {
   "cell_type": "code",
   "execution_count": 10,
   "id": "4b71c827",
   "metadata": {},
   "outputs": [],
   "source": [
    "import cv2\n",
    "def cv_show(name,img):\n",
    "    cv2.imshow(name,img)\n",
    "    cv2.waitKey(0)\n",
    "    cv2.destroyALLWindows()"
   ]
  },
  {
   "cell_type": "code",
   "execution_count": null,
   "id": "b098a440",
   "metadata": {},
   "outputs": [],
   "source": [
    "img = cv2.imread('WechatIMG9.jpg')\n",
    "cat = img[0:50,0:200]\n",
    "cv_show('cat',cat)"
   ]
  },
  {
   "cell_type": "code",
   "execution_count": 9,
   "id": "804bcb18",
   "metadata": {},
   "outputs": [
    {
     "name": "stdout",
     "output_type": "stream",
     "text": [
      "[[ 20  21  21 ...   9  10  10]\n",
      " [ 21  21  22 ...  13  15  16]\n",
      " [ 22  22  23 ...  18  17  20]\n",
      " ...\n",
      " [178 178 178 ...  10  11  11]\n",
      " [178 178 178 ...  11  11  12]\n",
      " [178 178 178 ...  10  11  11]]\n"
     ]
    }
   ],
   "source": [
    "img = cv2.imread('WechatIMG9.jpg')\n",
    "b,g,r = cv2.split(img)\n",
    "print(b)"
   ]
  },
  {
   "cell_type": "code",
   "execution_count": null,
   "id": "cef579ff",
   "metadata": {},
   "outputs": [],
   "source": [
    "#只保留单通道图像\n",
    "\n",
    "cur_img = img.copy()\n",
    "cur_img[:,:,0] = 0\n",
    "cur_img[:,:,1] = 0\n",
    "cv_show('r',cur_img)"
   ]
  },
  {
   "cell_type": "markdown",
   "id": "5f917c88",
   "metadata": {},
   "source": [
    "# 边界填充"
   ]
  },
  {
   "cell_type": "code",
   "execution_count": 2,
   "id": "c168379c",
   "metadata": {},
   "outputs": [],
   "source": [
    "#复制法，直接复制最边缘的像素 BORDER_REPLCATE\n",
    "#反射法，对图像中的像素在两边进行复制 BORDER_REFLECT          复制像素时包括最边缘的像素进行复制\n",
    "#反射法，以最边缘的像素为轴进行对称生成边界 BORDER_REFLECT_101 复制像素时不包括最边缘的像素进行复制\n",
    "#外包装法 BORDER_WRAP                                    复制图像时用同样的像素顺序进行复制\n",
    "# 常量法 ，用常数值进行填充 BORDER_CONSTANT"
   ]
  },
  {
   "cell_type": "markdown",
   "id": "17dbd745",
   "metadata": {},
   "source": [
    "# 图像数值计算"
   ]
  },
  {
   "cell_type": "code",
   "execution_count": null,
   "id": "fde8c21c",
   "metadata": {},
   "outputs": [],
   "source": [
    "import cv2\n",
    "img_add1 = cv2.imread('WechatIMG8.jpg')\n",
    "img_add2 = img_add1 + 10     #给图像的每一个通道都增加数值10\n",
    "img_add1          #显示图像的b通道\n",
    "cv2.imshow('img',img_add1[:,:,0])\n",
    "\n",
    "img_add2\n",
    "cv2.imshow('img2',img_add2[:,:,0])\n",
    "cv2.waitKey(0)\n",
    "cv2.destroyAllWindows()"
   ]
  },
  {
   "cell_type": "code",
   "execution_count": null,
   "id": "f72b178e",
   "metadata": {},
   "outputs": [],
   "source": []
  }
 ],
 "metadata": {
  "kernelspec": {
   "display_name": "Python[conda env:opencv]",
   "language": "python",
   "name": "opencv"
  },
  "language_info": {
   "codemirror_mode": {
    "name": "ipython",
    "version": 3
   },
   "file_extension": ".py",
   "mimetype": "text/x-python",
   "name": "python",
   "nbconvert_exporter": "python",
   "pygments_lexer": "ipython3",
   "version": "3.6.13"
  }
 },
 "nbformat": 4,
 "nbformat_minor": 5
}
