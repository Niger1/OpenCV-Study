{
 "cells": [
  {
   "cell_type": "code",
   "execution_count": 9,
   "id": "7afd7087-2ca1-4305-befc-648fd503ad81",
   "metadata": {},
   "outputs": [],
   "source": [
    "import cv2\n",
    "import matplotlib.pyplot as plt\n",
    "import numpy as np\n",
    "\n",
    "cat = cv2.imread('cat.jpg')\n",
    "\n",
    "# cv2.imshow('cat',cat)\n",
    "\n",
    "\n",
    "b = cat[:,:,0]\n",
    "g = cat[:,:,1]\n",
    "r = cat[:,:,2]\n",
    "\n",
    "cv2.imshow('b',b)\n",
    "cv2.imshow('g',g)\n",
    "cv2.imshow('r',r)\n",
    "\n",
    "cat[:,:,0]=0\n",
    "cv2.imshow('b0',cat)  #通道b设置为0\n",
    "cat[:,:,1]=0\n",
    "cv2.imshow('b0g0',cat)   #通道b，g设置为0\n",
    "cat[:,:,2]=0\n",
    "cv2.imshow('b0g0r0',cat)    #通道b，g，r设置为0\n",
    "\n",
    "\n",
    "\n",
    "\n",
    "cv2.waitKey()\n",
    "cv2.destroyAllWindows()"
   ]
  },
  {
   "cell_type": "code",
   "execution_count": null,
   "id": "08adf62f-f6c1-4ef3-82da-a777e0186aa6",
   "metadata": {},
   "outputs": [],
   "source": []
  }
 ],
 "metadata": {
  "kernelspec": {
   "display_name": "'Python(opencv)'",
   "language": "python",
   "name": "opencv"
  },
  "language_info": {
   "codemirror_mode": {
    "name": "ipython",
    "version": 3
   },
   "file_extension": ".py",
   "mimetype": "text/x-python",
   "name": "python",
   "nbconvert_exporter": "python",
   "pygments_lexer": "ipython3",
   "version": "3.6.13"
  }
 },
 "nbformat": 4,
 "nbformat_minor": 5
}
